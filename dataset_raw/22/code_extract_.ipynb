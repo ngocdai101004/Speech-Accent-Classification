{
 "cells": [
  {
   "cell_type": "code",
   "execution_count": 51,
   "metadata": {},
   "outputs": [],
   "source": [
    "from moviepy.editor import VideoFileClip\n",
    "from pytube import YouTube\n",
    "from pytube.innertube import _default_clients\n",
    "import datetime\n",
    "\n",
    "\n",
    "_default_clients[\"ANDROID_MUSIC\"] = _default_clients[\"ANDROID_CREATOR\"]\n",
    "\n",
    "\n",
    "def convert_to_seconds(time_str):\n",
    "    hours, minutes, seconds = map(int, time_str.split(\":\"))\n",
    "    total_seconds = hours * 3600 + minutes * 60 + seconds\n",
    "    return total_seconds\n",
    "\n",
    "\n",
    "url = \"https://www.youtube.com/watch?v=MG3ninVUbIs&list=PLrrSBDpLV-b3cxN_Z4cXNC2nd_VQZCeAO&index=49\"\n",
    "yt = YouTube(url, use_oauth=True, allow_oauth_cache=True)\n",
    "\n",
    "stream = yt.streams.get_lowest_resolution()\n",
    "stream.download(filename=\"youtube.mp4\")\n",
    "\n",
    "\n",
    "cvt_video = VideoFileClip(\"youtube.mp4\")\n",
    "ext_audio = cvt_video.audio"
   ]
  },
  {
   "cell_type": "code",
   "execution_count": 52,
   "metadata": {},
   "outputs": [
    {
     "name": "stdout",
     "output_type": "stream",
     "text": [
      "MoviePy - Writing audio in 2024_04_13_15_20_15.mp3\n"
     ]
    },
    {
     "name": "stderr",
     "output_type": "stream",
     "text": [
      "                                                                   \r"
     ]
    },
    {
     "name": "stdout",
     "output_type": "stream",
     "text": [
      "MoviePy - Done.\n",
      "MoviePy - Writing audio in 2024_04_13_15_20_16.mp3\n"
     ]
    },
    {
     "name": "stderr",
     "output_type": "stream",
     "text": [
      "                                                                   \r"
     ]
    },
    {
     "name": "stdout",
     "output_type": "stream",
     "text": [
      "MoviePy - Done.\n",
      "MoviePy - Writing audio in 2024_04_13_15_20_17.mp3\n"
     ]
    },
    {
     "name": "stderr",
     "output_type": "stream",
     "text": [
      "                                                                    \r"
     ]
    },
    {
     "name": "stdout",
     "output_type": "stream",
     "text": [
      "MoviePy - Done.\n",
      "MoviePy - Writing audio in 2024_04_13_15_20_18.mp3\n"
     ]
    },
    {
     "name": "stderr",
     "output_type": "stream",
     "text": [
      "                                                                    \r"
     ]
    },
    {
     "name": "stdout",
     "output_type": "stream",
     "text": [
      "MoviePy - Done.\n",
      "MoviePy - Writing audio in 2024_04_13_15_20_19.mp3\n"
     ]
    },
    {
     "name": "stderr",
     "output_type": "stream",
     "text": [
      "                                                                   \r"
     ]
    },
    {
     "name": "stdout",
     "output_type": "stream",
     "text": [
      "MoviePy - Done.\n",
      "MoviePy - Writing audio in 2024_04_13_15_20_20.mp3\n"
     ]
    },
    {
     "name": "stderr",
     "output_type": "stream",
     "text": [
      "                                                                   \r"
     ]
    },
    {
     "name": "stdout",
     "output_type": "stream",
     "text": [
      "MoviePy - Done.\n",
      "MoviePy - Writing audio in 2024_04_13_15_20_20.mp3\n"
     ]
    },
    {
     "name": "stderr",
     "output_type": "stream",
     "text": [
      "                                                                    \r"
     ]
    },
    {
     "name": "stdout",
     "output_type": "stream",
     "text": [
      "MoviePy - Done.\n"
     ]
    }
   ],
   "source": [
    "start_end = [\n",
    "    (\"00:04:18\", \"00:04:32\"),\n",
    "    (\"00:05:00\", \"00:05:20\"),\n",
    "    (\"00:05:22\", \"00:06:03\"),\n",
    "    (\"00:08:20\", \"00:08:53\"),\n",
    "    (\"00:09:14\", \"00:09:24\"),\n",
    "    (\"00:13:03\", \"00:13:15\"),\n",
    "    (\"00:13:40\", \"00:14:17\"),\n",
    "]  # nhập các bộ thời gian\n",
    "\n",
    "\n",
    "for i in start_end :\n",
    "\n",
    "\n",
    "\n",
    "\n",
    "\n",
    "\n",
    "\n",
    "\n",
    "\n",
    "    start_seconds = convert_to_seconds(i[0])\n",
    "    end_seconds = convert_to_seconds(i[1])\n",
    "    video_segment = cvt_video.subclip(start_seconds, end_seconds)\n",
    "\n",
    "\n",
    "\n",
    "\n",
    "\n",
    "\n",
    "\n",
    "\n",
    "\n",
    "    audio_segment = video_segment.audio  # Trích xuất âm thanh từ phần video đã cắt\n",
    "\n",
    "\n",
    "\n",
    "\n",
    "\n",
    "\n",
    "\n",
    "\n",
    "\n",
    "    current_time = datetime.datetime.now()\n",
    "\n",
    "\n",
    "\n",
    "\n",
    "\n",
    "\n",
    "\n",
    "\n",
    "\n",
    "    formatted_time = current_time.strftime(\"%Y_%m_%d_%H_%M_%S\")\n",
    "\n",
    "\n",
    "\n",
    "\n",
    "\n",
    "\n",
    "\n",
    "\n",
    "\n",
    "    file_name = f\"{formatted_time}.mp3\"\n",
    "    audio_segment.write_audiofile(file_name)\n",
    "\n",
    "\n",
    "cvt_video.close()\n",
    "import os\n",
    "os.remove(\"youtube.mp4\")"
   ]
  },
  {
   "cell_type": "code",
   "execution_count": 53,
   "metadata": {},
   "outputs": [
    {
     "name": "stdout",
     "output_type": "stream",
     "text": [
      "Total length of .mp3 files in folder: 1797.6946938775511 seconds  29.961578231292517 mins\n"
     ]
    }
   ],
   "source": [
    "import os\n",
    "from mutagen.mp3 import MP3\n",
    "\n",
    "\n",
    "def sum_mp3_lengths(folder_path):\n",
    "    total_length = 0\n",
    "    for root, dirs, files in os.walk(folder_path):\n",
    "        for file in files:\n",
    "            if file.endswith(\".mp3\"):\n",
    "                file_path = os.path.join(root, file)\n",
    "                try:\n",
    "                    audio = MP3(file_path)\n",
    "                    total_length += audio.info.length\n",
    "                except Exception as e:\n",
    "                    print(f\"Error reading file {file_path}: {e}\")\n",
    "    return total_length\n",
    "\n",
    "\n",
    "folder_path = \"D:/year_2/Ki_2/PPNCKH/22\"\n",
    "total_length = sum_mp3_lengths(folder_path)\n",
    "print(\"Total length of .mp3 files in folder:\", total_length, \"seconds \", total_length/60,\"mins\")"
   ]
  },
  {
   "cell_type": "code",
   "execution_count": null,
   "metadata": {},
   "outputs": [],
   "source": []
  }
 ],
 "metadata": {
  "kernelspec": {
   "display_name": "Python 3",
   "language": "python",
   "name": "python3"
  },
  "language_info": {
   "codemirror_mode": {
    "name": "ipython",
    "version": 3
   },
   "file_extension": ".py",
   "mimetype": "text/x-python",
   "name": "python",
   "nbconvert_exporter": "python",
   "pygments_lexer": "ipython3",
   "version": "3.11.0"
  }
 },
 "nbformat": 4,
 "nbformat_minor": 2
}
